{
  "nbformat": 4,
  "nbformat_minor": 0,
  "metadata": {
    "colab": {
      "provenance": [],
      "authorship_tag": "ABX9TyPT6OWZWt2rIYooUHYssL7o"
    },
    "kernelspec": {
      "name": "python3",
      "display_name": "Python 3"
    },
    "language_info": {
      "name": "python"
    }
  },
  "cells": [
    {
      "cell_type": "code",
      "source": [
        "from google.colab import drive\n",
        "drive.mount('/content/drive')"
      ],
      "metadata": {
        "colab": {
          "base_uri": "https://localhost:8080/"
        },
        "id": "QHUSIv9aZNPA",
        "outputId": "dd5049c0-fcfd-4604-b6fb-d0e6d05d3e4a"
      },
      "execution_count": null,
      "outputs": [
        {
          "output_type": "stream",
          "name": "stdout",
          "text": [
            "Mounted at /content/drive\n"
          ]
        }
      ]
    },
    {
      "cell_type": "code",
      "execution_count": null,
      "metadata": {
        "colab": {
          "base_uri": "https://localhost:8080/"
        },
        "id": "j8c-P6P9Y-PL",
        "outputId": "669a4c41-358e-45e7-b992-44b7267c33c6"
      },
      "outputs": [
        {
          "output_type": "stream",
          "name": "stdout",
          "text": [
            "Collecting lingua-language-detector\n",
            "  Downloading lingua_language_detector-2.1.0-cp311-cp311-manylinux_2_17_x86_64.manylinux2014_x86_64.whl.metadata (32 kB)\n",
            "Downloading lingua_language_detector-2.1.0-cp311-cp311-manylinux_2_17_x86_64.manylinux2014_x86_64.whl (96.2 MB)\n",
            "\u001b[2K   \u001b[90m━━━━━━━━━━━━━━━━━━━━━━━━━━━━━━━━━━━━━━━━\u001b[0m \u001b[32m96.2/96.2 MB\u001b[0m \u001b[31m8.0 MB/s\u001b[0m eta \u001b[36m0:00:00\u001b[0m\n",
            "\u001b[?25hInstalling collected packages: lingua-language-detector\n",
            "Successfully installed lingua-language-detector-2.1.0\n"
          ]
        }
      ],
      "source": [
        "!pip install lingua-language-detector"
      ]
    },
    {
      "cell_type": "code",
      "source": [
        "import pandas as pd\n",
        "from lingua import Language, LanguageDetectorBuilder"
      ],
      "metadata": {
        "id": "A9BPmp2pZDR9"
      },
      "execution_count": null,
      "outputs": []
    },
    {
      "cell_type": "code",
      "source": [
        "b_df = pd.read_csv(\"/content/drive/MyDrive/b_comment_data_language_filter.csv\")"
      ],
      "metadata": {
        "id": "OE1lEQkWZTM8"
      },
      "execution_count": null,
      "outputs": []
    },
    {
      "cell_type": "code",
      "source": [
        "detector = LanguageDetectorBuilder.from_all_languages().build()"
      ],
      "metadata": {
        "id": "umHexODFahkx"
      },
      "execution_count": null,
      "outputs": []
    },
    {
      "cell_type": "code",
      "source": [
        "def detect_language_lingua(text):\n",
        "    try:\n",
        "        language = detector.detect_language_of(text)\n",
        "        if language is None:\n",
        "            return pd.Series([\"unknown\", 0.0])\n",
        "        else:\n",
        "          return pd.Series([language.name, 1.0])\n",
        "    except Exception as e:\n",
        "        return pd.Series([\"error\", 0.0])"
      ],
      "metadata": {
        "id": "xTl26Vstaj8L"
      },
      "execution_count": null,
      "outputs": []
    },
    {
      "cell_type": "code",
      "source": [
        "b_df[['Lingua_lang', 'Lingua_confidence']] = b_df['Comments'].apply(detect_language_lingua)"
      ],
      "metadata": {
        "id": "kUfBRJ7Pa6gZ"
      },
      "execution_count": null,
      "outputs": []
    },
    {
      "cell_type": "code",
      "source": [
        "b_df.to_csv(\"/content/drive/MyDrive/b_lang_detection_results.csv\")"
      ],
      "metadata": {
        "id": "VB6PZmhHbk-Z"
      },
      "execution_count": null,
      "outputs": []
    },
    {
      "cell_type": "code",
      "source": [
        "k_df.to_csv(\"/content/drive/MyDrive/k_lang_detection_results.csv\")"
      ],
      "metadata": {
        "id": "tw7hV8kCbwg7"
      },
      "execution_count": null,
      "outputs": []
    },
    {
      "cell_type": "code",
      "source": [],
      "metadata": {
        "id": "4bKNIdcwgCm6"
      },
      "execution_count": null,
      "outputs": []
    }
  ]
}